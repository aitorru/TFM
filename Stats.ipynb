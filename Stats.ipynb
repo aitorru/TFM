{
 "cells": [
  {
   "cell_type": "code",
   "execution_count": 8,
   "id": "5ef88c59-f9de-4ad0-a828-749085fb70dd",
   "metadata": {},
   "outputs": [],
   "source": [
    "from matplotlib import pyplot as plt\n",
    "import chart_studio.plotly as py\n",
    "import plotly.figure_factory as ff\n",
    "import pandas as pd\n",
    "import numpy as np\n",
    "import math\n",
    "import os\n",
    "\n",
    "%matplotlib inline"
   ]
  },
  {
   "cell_type": "code",
   "execution_count": 9,
   "id": "e3d82fd5",
   "metadata": {},
   "outputs": [
    {
     "name": "stdout",
     "output_type": "stream",
     "text": [
      "c:\\Users\\aitor\\TFM\n"
     ]
    }
   ],
   "source": [
    "print(os.getcwd())"
   ]
  },
  {
   "cell_type": "code",
   "execution_count": 10,
   "id": "1b561ed5",
   "metadata": {
    "tags": []
   },
   "outputs": [],
   "source": [
    "source_data = pd.read_csv(r'C:\\Users\\aitor\\TFM\\stats.csv')\n",
    "\n",
    "table = ff.create_table(source_data)\n",
    "py.iplot(table, filename='jupyter-table1')"
   ]
  },
  {
   "cell_type": "code",
   "execution_count": null,
   "id": "c589598a",
   "metadata": {},
   "outputs": [],
   "source": [
    "import chart_studio.plotly as py\n",
    "import plotly.graph_objects as go"
   ]
  },
  {
   "cell_type": "code",
   "execution_count": null,
   "id": "161d28c8",
   "metadata": {},
   "outputs": [],
   "source": [
    "data = [go.Bar(x=source_data.Serie,\n",
    "            y=source_data.Rust)]\n",
    "\n",
    "py.iplot(data, filename='jupyter-basic_bar')"
   ]
  },
  {
   "cell_type": "code",
   "execution_count": null,
   "id": "4990f7a5-cf10-45ff-be8c-c41f84308f11",
   "metadata": {},
   "outputs": [],
   "source": []
  }
 ],
 "metadata": {
  "kernelspec": {
   "display_name": "Python 3 (ipykernel)",
   "language": "python",
   "name": "python3"
  },
  "language_info": {
   "codemirror_mode": {
    "name": "ipython",
    "version": 3
   },
   "file_extension": ".py",
   "mimetype": "text/x-python",
   "name": "python",
   "nbconvert_exporter": "python",
   "pygments_lexer": "ipython3",
   "version": "3.10.8"
  },
  "vscode": {
   "interpreter": {
    "hash": "0d41602f5013c5249248bbe75f986fe22d164346fec26684503cb0821641a4fd"
   }
  }
 },
 "nbformat": 4,
 "nbformat_minor": 5
}
